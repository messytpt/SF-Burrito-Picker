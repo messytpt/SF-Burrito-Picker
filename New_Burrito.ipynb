{
  "nbformat": 4,
  "nbformat_minor": 0,
  "metadata": {
    "colab": {
      "provenance": []
    },
    "kernelspec": {
      "name": "python3",
      "display_name": "Python 3"
    },
    "language_info": {
      "name": "python"
    }
  },
  "cells": [
    {
      "cell_type": "code",
      "execution_count": null,
      "metadata": {
        "colab": {
          "base_uri": "https://localhost:8080/"
        },
        "id": "kEDK3CiNwS-s",
        "outputId": "f94e355a-52c0-40e9-a198-896d8d41ca07"
      },
      "outputs": [
        {
          "output_type": "stream",
          "name": "stdout",
          "text": [
            "Cloning into 'SF-Burrito-Picker'...\n",
            "fatal: could not read Username for 'https://github.com': No such device or address\n",
            "[Errno 2] No such file or directory: 'SF-Burrito-Picker'\n",
            "/content\n",
            "vegetarian or meat? vegetarian\n",
            "What type of vegetable: nopales/broccoli + carrots/veggies/chili relleno/red bell pepper + onions? nopales\n",
            "Do you need rice? (Y/N)n\n",
            "Do you need tortilla chips? (Y/N)y\n",
            "Enter a size (2-3): 2\n",
            "Sit down or take out?sit down\n",
            "Traditional or experimental?traditional\n",
            "Are breakfast options important? (Y/N)n\n",
            "Should the restaurant be off the beaten path? (Y/N)y\n",
            "{'veg_meat': 'vegetarian', 'meat_type': None, 'veg_type': 'nopales', 'rice': 'N', 'chips': 'Y', 'size': '2', 'location': 'sit down', 'variety': 'traditional', 'breakfast': 'N', 'rare': 'Y'}\n"
          ]
        }
      ],
      "source": [
        "!git clone https://github.com/messytpt/SF-Burrito-Picker.git\n",
        "%cd SF-Burrito-Picker\n",
        "\n",
        "\n",
        "\n",
        "# get user input\n",
        "new_input = {}\n",
        "\n",
        "def check_user_input (user_input, question):\n",
        "    question = question.lower()\n",
        "    # checks input for or options\n",
        "    if \" or \" in question:\n",
        "        input_list = question.split(\" or \")\n",
        "        option_1 = input_list[0]\n",
        "        option_2 = input_list[1]\n",
        "        while user_input != option_1 and user_input != option_2 and user_input != \"either\":\n",
        "            print(\"You have entered an invalid answer. Try again.\")\n",
        "            user_input = input(question).lower().strip()\n",
        "    # checks input for number options\n",
        "    elif user_input.isdigit():\n",
        "        while user_input != \"1\" and user_input != \"2\" and user_input != \"3\":\n",
        "            print(\"You have entered an invalid answer. Try again.\")\n",
        "            user_input = input(question).strip()\n",
        "    # checks input for y/n options\n",
        "    else:\n",
        "        option_1 = \"Y\"\n",
        "        option_2 = \"N\"\n",
        "        while user_input != option_1 and user_input != option_2:\n",
        "            print(\"You have entered an invalid answer. Try again.\")\n",
        "            user_input = input(question).capitalize().strip()\n",
        "    return user_input\n",
        "def check_input_special (user_input):\n",
        "  while user_input not in [\"carnitas\", \"carne asada\",\"chorizo\", \"al pastor\" , \"chicharron\"]:\n",
        "    print(\"You have entered an invalid answer. Try again.\")\n",
        "    user_input = input(\"What type of meat: carnitas/carne asada/churrizo/al pastor/chicharron? \").lower().strip()\n",
        "  return user_input\n",
        "def check_input_special_2 (user_input):\n",
        "  while user_input not in [\"nopales\", \"broccoli + carrots\", \"veggies\", \"chili relleno\", \"red bell pepper + onions\"]:\n",
        "    print(\"You have entered an invalid answer. Try again.\")\n",
        "    user_input = input(\"What type of vegetable: nopales/broccoli + carrots/veggies/chili relleno/red bell pepper + onions? \").lower().strip()\n",
        "  return user_input\n",
        "#get user input\n",
        "def get_user_input ():\n",
        "    # fist question and checks user input\n",
        "    veg_meat = input (\"vegetarian or meat? \").lower().strip()\n",
        "    veg_meat = check_user_input(veg_meat, \"vegetarian or meat\" )\n",
        "    # follow up question and adds to list\n",
        "    new_input[\"veg_meat\"] = veg_meat\n",
        "    if veg_meat == \"meat\":\n",
        "    # second question. checks input. adds to list\n",
        "      meat_type = input(\"What type of meat: carnitas/carne asada/chorizo/al pastor/chicharron? \").lower().strip()\n",
        "      meat_type = check_input_special(meat_type)\n",
        "      new_input[\"meat_type\"] = meat_type\n",
        "      new_input[\"veg_type\"] = None\n",
        "    if veg_meat == \"vegetarian\":\n",
        "      veg_type = input (\"What type of vegetable: nopales/broccoli + carrots/veggies/chili relleno/red bell pepper + onions? \").lower().strip()\n",
        "      veg_type = check_input_special_2 (veg_type)\n",
        "      new_input[\"meat_type\"] = None\n",
        "      new_input[\"veg_type\"] = veg_type\n",
        "    #third question\n",
        "    rice = input (\"Do you need rice? (Y/N)\").capitalize().strip()\n",
        "    rice = check_user_input(rice,\"Do you need rice? (Y/N) \" )\n",
        "    new_input[\"rice\"] = rice\n",
        "    # fourth question\n",
        "    chips = input (\"Do you need tortilla chips? (Y/N)\").capitalize().strip()\n",
        "    chips = check_user_input(chips, \"Do you need tortilla chips? (Y/N) \")\n",
        "    new_input[\"chips\"] = chips\n",
        "    # fifth question. checks input. adds to list\n",
        "    size = input (\"Enter a size (2-3): \")\n",
        "    while int(size) not in [2, 3]:\n",
        "      print(\"You have entered an invalid answer. Try again. \")\n",
        "      size = input(\"Enter a size (2-3): \").strip()\n",
        "    new_input[\"size\"] = size\n",
        "    # sixth question\n",
        "    location = input (\"Sit down or take out?\").lower().strip()\n",
        "    while location not in [\"sit down\", \"take out\"]:\n",
        "        print(\"You have entered an invalid answer. Try again. \")\n",
        "        size = input(\"Sit down or take out?\").strip()\n",
        "    new_input[\"location\"] = location\n",
        "    # seventh question\n",
        "    variety = input (\"Traditional or experimental?\").lower().strip()\n",
        "    variety = check_user_input(variety,\"Traditional or experimental\")\n",
        "    new_input[\"variety\"] = variety\n",
        "    # eighth question. checks input. adds to list\n",
        "    breakfast = input (\"Are breakfast options important? (Y/N)\").capitalize().strip()\n",
        "    breakfast = check_user_input(breakfast, \"Are breakfast options important? (Y/N)\")\n",
        "    new_input[\"breakfast\"] = breakfast\n",
        "    #ninth  question\n",
        "    rare = input (\"Should the restaurant be off the beaten path? (Y/N)\").capitalize().strip()\n",
        "    rare = check_user_input(rare,\"Should the restaurant be off the beaten path? (Y/N)\")\n",
        "    new_input[\"rare\"] = rare\n",
        "\n",
        "def main():\n",
        "  get_user_input()\n",
        "\n",
        "main()\n",
        "print(new_input)\n"
      ]
    },
    {
      "cell_type": "code",
      "source": [
        "#upload csv\n",
        "import pandas as pd\n",
        "burritos_df = pd.read_csv(\"/content/SF-Burrito-Picker/burrito_list - Sheet1 (2).csv\")\n",
        "burritos_df.head()\n",
        "# Convert all text columns to lowercase\n",
        "burritos_df = burritos_df.applymap(lambda x: x.lower() if isinstance(x, str) else x)\n",
        "burritos_df.to_csv(\"your_file_lowercase.csv\", index=False)\n",
        "#mapping yes and no\n",
        "burritos_df = burritos_df.replace({\"yes\": \"Y\", \"no\": \"N\"})\n",
        "#strip\n",
        "burritos_df.columns = burritos_df.columns.str.strip()\n",
        "burritos_df = burritos_df.applymap(lambda x: x.strip() if isinstance(x, str) else x)\n",
        "\n",
        "#convert csv to list\n",
        "burrito_list = burritos_df.to_dict(orient=\"records\")\n"
      ],
      "metadata": {
        "colab": {
          "base_uri": "https://localhost:8080/"
        },
        "id": "Z00qMYFLwdyn",
        "outputId": "f97d091f-cde3-4cad-9e11-edc176460ef9"
      },
      "execution_count": null,
      "outputs": [
        {
          "output_type": "stream",
          "name": "stderr",
          "text": [
            "<ipython-input-2-1f3d8313fa85>:6: FutureWarning: DataFrame.applymap has been deprecated. Use DataFrame.map instead.\n",
            "  burritos_df = burritos_df.applymap(lambda x: x.lower() if isinstance(x, str) else x)\n",
            "<ipython-input-2-1f3d8313fa85>:12: FutureWarning: DataFrame.applymap has been deprecated. Use DataFrame.map instead.\n",
            "  burritos_df = burritos_df.applymap(lambda x: x.strip() if isinstance(x, str) else x)\n"
          ]
        }
      ]
    },
    {
      "cell_type": "code",
      "source": [
        "from google.colab import drive\n",
        "drive.mount('/content/drive')"
      ],
      "metadata": {
        "id": "ywsm8UhSVmEn",
        "colab": {
          "base_uri": "https://localhost:8080/"
        },
        "outputId": "3d59bc64-9563-4f4f-c1b7-0704d91449eb"
      },
      "execution_count": null,
      "outputs": [
        {
          "output_type": "stream",
          "name": "stdout",
          "text": [
            "Mounted at /content/drive\n"
          ]
        }
      ]
    },
    {
      "cell_type": "code",
      "source": [
        "#filter by meat preference\n",
        "matches = []\n",
        "\n",
        "for burrito in burrito_list:\n",
        "  # Check if the key exists before accessing it\n",
        "  if \"meat_type\" in burrito and burrito[\"meat_type\"] == new_input[\"meat_type\"]:\n",
        "    matches.append(burrito)\n",
        "  elif \"veg_type\" in burrito and burrito[\"veg_type\"] == new_input[\"veg_type\"]:\n",
        "    matches.append(burrito)\n",
        "print(matches)\n",
        "print(len(matches))"
      ],
      "metadata": {
        "id": "WEHOczIpx_8H",
        "colab": {
          "base_uri": "https://localhost:8080/"
        },
        "outputId": "1c697a2a-9dc9-49f5-a0ef-a85e1d23f7a7"
      },
      "execution_count": null,
      "outputs": [
        {
          "output_type": "stream",
          "name": "stdout",
          "text": [
            "[{'veg_meat': 'vegetarian', 'meat_type': nan, 'veg_type': 'nopales', 'rice': 'N', 'chips': 'N', 'size': 3, 'location': 'there', 'variety': 'traditional', 'breakfast': 'no', 'rare': 'N', 'restaurant': 'tacos del barrio', 'burrito': 'nopales super burrito'}, {'veg_meat': 'vegetarian', 'meat_type': nan, 'veg_type': 'nopales', 'rice': 'Y', 'chips': 'N', 'size': 2, 'location': 'take out', 'variety': 'traditional', 'breakfast': 'no', 'rare': 'Y', 'restaurant': 'tacos del barrio', 'burrito': 'nopales super burrito'}, {'veg_meat': 'vegetarian', 'meat_type': nan, 'veg_type': 'nopales', 'rice': 'Y', 'chips': 'Y', 'size': 2, 'location': 'take out', 'variety': 'experimental', 'breakfast': 'no', 'rare': 'Y', 'restaurant': 'tacos del barrio', 'burrito': 'nopales super burrito'}, {'veg_meat': 'vegetarian', 'meat_type': nan, 'veg_type': 'nopales', 'rice': 'N', 'chips': 'Y', 'size': 3, 'location': 'take out', 'variety': 'experimental', 'breakfast': 'no', 'rare': 'N', 'restaurant': 'tacos del barrio', 'burrito': 'nopales super burrito'}, {'veg_meat': 'vegetarian', 'meat_type': nan, 'veg_type': 'nopales', 'rice': 'Y', 'chips': 'Y', 'size': 2, 'location': 'there', 'variety': 'traditional', 'breakfast': 'no', 'rare': 'Y', 'restaurant': 'tacos del barrio', 'burrito': 'nopales super burrito'}]\n",
            "5\n"
          ]
        }
      ]
    },
    {
      "cell_type": "code",
      "source": [
        "#filter by variety and rareness\n",
        "next_matches = []\n",
        "next2_matches = []\n",
        "\n",
        "for burrito in matches:\n",
        "  if burrito[\"variety\"] == new_input[\"variety\"]:\n",
        "    next_matches.append(burrito)\n",
        "\n",
        "for burrito in next_matches:\n",
        "  if burrito[\"rare\"] == new_input[\"rare\"]:\n",
        "    next2_matches.append(burrito)\n",
        "print(next_matches)\n",
        "print(len(next_matches))\n",
        "print(next2_matches)\n",
        "print(len(next2_matches))\n",
        "print(burrito[\"rare\"])"
      ],
      "metadata": {
        "id": "QSQct4e52Uhk",
        "colab": {
          "base_uri": "https://localhost:8080/"
        },
        "outputId": "e808499b-fb6e-45d2-8afb-c97839ea89bb"
      },
      "execution_count": null,
      "outputs": [
        {
          "output_type": "stream",
          "name": "stdout",
          "text": [
            "[{'veg_meat': 'vegetarian', 'meat_type': nan, 'veg_type': 'nopales', 'rice': 'N', 'chips': 'N', 'size': 3, 'location': 'there', 'variety': 'traditional', 'breakfast': 'no', 'rare': 'N', 'restaurant': 'tacos del barrio', 'burrito': 'nopales super burrito'}, {'veg_meat': 'vegetarian', 'meat_type': nan, 'veg_type': 'nopales', 'rice': 'Y', 'chips': 'N', 'size': 2, 'location': 'take out', 'variety': 'traditional', 'breakfast': 'no', 'rare': 'Y', 'restaurant': 'tacos del barrio', 'burrito': 'nopales super burrito'}, {'veg_meat': 'vegetarian', 'meat_type': nan, 'veg_type': 'nopales', 'rice': 'Y', 'chips': 'Y', 'size': 2, 'location': 'there', 'variety': 'traditional', 'breakfast': 'no', 'rare': 'Y', 'restaurant': 'tacos del barrio', 'burrito': 'nopales super burrito'}]\n",
            "3\n",
            "[{'veg_meat': 'vegetarian', 'meat_type': nan, 'veg_type': 'nopales', 'rice': 'Y', 'chips': 'N', 'size': 2, 'location': 'take out', 'variety': 'traditional', 'breakfast': 'no', 'rare': 'Y', 'restaurant': 'tacos del barrio', 'burrito': 'nopales super burrito'}, {'veg_meat': 'vegetarian', 'meat_type': nan, 'veg_type': 'nopales', 'rice': 'Y', 'chips': 'Y', 'size': 2, 'location': 'there', 'variety': 'traditional', 'breakfast': 'no', 'rare': 'Y', 'restaurant': 'tacos del barrio', 'burrito': 'nopales super burrito'}]\n",
            "2\n",
            "Y\n"
          ]
        }
      ]
    },
    {
      "cell_type": "code",
      "source": [
        "# filter by remaining categories\n",
        "\n",
        "\n",
        "# Scoring logic\n",
        "scored_burritos = []\n",
        "\n",
        "# Initialize the score for each burrito\n",
        "\n",
        "for burrito in next2_matches:\n",
        "    burrito['score'] = 0\n",
        "\n",
        "print(len(next2_matches))\n",
        "\n",
        "for burrito in next2_matches:\n",
        "    # 1. rice match (assign higher weight to protein matches)\n",
        "    if burrito[\"rice\"] == new_input[\"rice\"]:\n",
        "        burrito['score'] += 4\n",
        "        scored_burritos.append(burrito)\n",
        "\n",
        "    # 2. tortilla match\n",
        "    if burrito[\"chips\"] == new_input[\"chips\"]:\n",
        "        burrito['score'] += 1\n",
        "        scored_burritos.append(burrito)\n",
        "    # 3. location match\n",
        "    if burrito[\"location\"] == new_input[\"location\"]:\n",
        "        burrito['score'] += 1\n",
        "        scored_burritos.append(burrito)\n",
        "    # 4. Size match\n",
        "    if burrito[\"size\"] == new_input[\"size\"]:\n",
        "        burrito['score'] += 3\n",
        "        scored_burritos.append(burrito)\n",
        "    # 5. breakfast match\n",
        "    if burrito[\"breakfast\"] == new_input[\"breakfast\"]:\n",
        "        burrito['score'] += 2\n",
        "        scored_burritos.append(burrito)\n",
        "    # Append the burrito and its score to the scored list\n",
        "\n",
        "\n",
        "# Sort burritos by score in descending order\n",
        "\n",
        "print(scored_burritos)\n",
        "\n",
        "scored_burritos = sorted(scored_burritos, key=lambda x: x['score'], reverse = True)\n",
        "print(scored_burritos[0])\n"
      ],
      "metadata": {
        "id": "3UR-2q0Z5uC1",
        "colab": {
          "base_uri": "https://localhost:8080/"
        },
        "outputId": "a5d70a04-b245-4c6e-9d05-5337d1687cbd"
      },
      "execution_count": null,
      "outputs": [
        {
          "output_type": "stream",
          "name": "stdout",
          "text": [
            "2\n",
            "[{'veg_meat': 'vegetarian', 'meat_type': nan, 'veg_type': 'nopales', 'rice': 'Y', 'chips': 'Y', 'size': 2, 'location': 'there', 'variety': 'traditional', 'breakfast': 'no', 'rare': 'Y', 'restaurant': 'tacos del barrio', 'burrito': 'nopales super burrito', 'score': 1}]\n",
            "{'veg_meat': 'vegetarian', 'meat_type': nan, 'veg_type': 'nopales', 'rice': 'Y', 'chips': 'Y', 'size': 2, 'location': 'there', 'variety': 'traditional', 'breakfast': 'no', 'rare': 'Y', 'restaurant': 'tacos del barrio', 'burrito': 'nopales super burrito', 'score': 1}\n"
          ]
        }
      ]
    },
    {
      "cell_type": "code",
      "source": [
        "#final results\n",
        "\n",
        "# Display results\n",
        "# Check if scored_burritos is empty before calling max()\n",
        "if scored_burritos:\n",
        "    best_burrito = max(scored_burritos, key=lambda x: x[\"score\"])\n",
        "\n",
        "    #find best burrito in original list\n",
        "    best_burrito_details = scored_burritos[0]\n",
        "    print(best_burrito_details)\n",
        "    # connect to address and burrito\n",
        "    dataf = pd.read_csv(\"/content/SF-Burrito-Picker/burrito_final - Sheet1.csv\")\n",
        "    dataf.columns = dataf.columns.str.strip()\n",
        "    #lower case\n",
        "    dataf = dataf.map(lambda x: x.lower() if isinstance(x, str) else x)\n",
        "    dataf = dataf.applymap(lambda x: x.strip() if isinstance(x, str) else x) # Apply strip to every cell if it's a string\n",
        "    dataf.to_csv(\"your_file_lowercase.csv\", index=False)\n",
        "    #make into list of dictionaries\n",
        "    burrito_info = dataf.to_dict(orient=\"records\")\n",
        "    #get restaurant name\n",
        "    restaurant = best_burrito_details[\"restaurant\"]\n",
        "    #get address\n",
        "    for one in burrito_info:\n",
        "        if restaurant == one[\"restaurant\"]:\n",
        "            address = one[\"address\"]\n",
        "    print(address)\n",
        "\n",
        "    #recapitalize\n",
        "    columns_to_capitalize = [\"address\", \"restaurant\"]\n",
        "    dataf[columns_to_capitalize] = dataf[columns_to_capitalize].apply(lambda col: col.str.capitalize())\n",
        "\n",
        "    print(\"Congrats! Your perfect burrito is:\", best_burrito[\"burrito\"], \".\", \"This burrito can be found at\", best_burrito_details[\"restaurant\"].title(), \"which is located at\", address.title())\n",
        "else:\n",
        "    print(\"No burritos match your criteria. Please try again with different preferences.\")"
      ],
      "metadata": {
        "id": "lLWKYwWV9P5d",
        "colab": {
          "base_uri": "https://localhost:8080/"
        },
        "outputId": "64c47b43-1d43-4ffe-9611-f79ca7a81be9"
      },
      "execution_count": null,
      "outputs": [
        {
          "output_type": "stream",
          "name": "stdout",
          "text": [
            "{'veg_meat': 'vegetarian', 'meat_type': nan, 'veg_type': 'nopales', 'rice': 'Y', 'chips': 'Y', 'size': 2, 'location': 'there', 'variety': 'traditional', 'breakfast': 'no', 'rare': 'Y', 'restaurant': 'tacos del barrio', 'burrito': 'nopales super burrito', 'score': 1}\n",
            "2817 24th st, san francisco, ca 94110\n",
            "Congrats! Your perfect burrito is: nopales super burrito . This burrito can be found at Tacos Del Barrio which is located at 2817 24Th St, San Francisco, Ca 94110\n"
          ]
        },
        {
          "output_type": "stream",
          "name": "stderr",
          "text": [
            "<ipython-input-7-9a27f884d12e>:16: FutureWarning: DataFrame.applymap has been deprecated. Use DataFrame.map instead.\n",
            "  dataf = dataf.applymap(lambda x: x.strip() if isinstance(x, str) else x) # Apply strip to every cell if it's a string\n"
          ]
        }
      ]
    }
  ]
}