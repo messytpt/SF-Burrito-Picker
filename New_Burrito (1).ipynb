{
  "nbformat": 4,
  "nbformat_minor": 0,
  "metadata": {
    "colab": {
      "provenance": []
    },
    "kernelspec": {
      "name": "python3",
      "display_name": "Python 3"
    },
    "language_info": {
      "name": "python"
    }
  },
  "cells": [
    {
      "cell_type": "code",
      "execution_count": null,
      "metadata": {
        "colab": {
          "base_uri": "https://localhost:8080/"
        },
        "id": "kEDK3CiNwS-s",
        "outputId": "5db0fc08-52fb-4a84-dae7-de9a2afd163d"
      },
      "outputs": [
        {
          "output_type": "stream",
          "name": "stdout",
          "text": [
            "vegetarian or meat? meat\n",
            "What type of meat: carnitas/carne asada/chorizo/al pastor/chicharron? carnitas\n",
            "Do you need rice? (Y/N)n\n",
            "Do you need tortilla chips? (Y/N)n\n",
            "Enter a size (2-3): 3\n",
            "Sit down or take out?sit down\n",
            "Traditional or experimental?traditional\n",
            "Are breakfast options important? (Y/N)n\n",
            "Should the restaurant be off the beaten path? (Y/N)n\n",
            "{'veg_meat': 'meat', 'meat_type': 'carnitas', 'veg_type': None, 'rice': 'N', 'chips': 'N', 'size': '3', 'location': 'sit down', 'variety': 'traditional', 'breakfast': 'N', 'rare': 'N'}\n"
          ]
        }
      ],
      "source": [
        "!git clone https://github.com/messytpt/SF-Burrito-Picker.git\n",
        "%cd SF-Burrito-Picker\n",
        "\n",
        "\n",
        "\n",
        "# get user input\n",
        "new_input = {}\n",
        "\n",
        "def check_user_input (user_input, question):\n",
        "    question = question.lower()\n",
        "    # checks input for or options\n",
        "    if \" or \" in question:\n",
        "        input_list = question.split(\" or \")\n",
        "        option_1 = input_list[0]\n",
        "        option_2 = input_list[1]\n",
        "        while user_input != option_1 and user_input != option_2 and user_input != \"either\":\n",
        "            print(\"You have entered an invalid answer. Try again.\")\n",
        "            user_input = input(question).lower().strip()\n",
        "    # checks input for number options\n",
        "    elif user_input.isdigit():\n",
        "        while user_input != \"1\" and user_input != \"2\" and user_input != \"3\":\n",
        "            print(\"You have entered an invalid answer. Try again.\")\n",
        "            user_input = input(question).strip()\n",
        "    # checks input for y/n options\n",
        "    else:\n",
        "        option_1 = \"Y\"\n",
        "        option_2 = \"N\"\n",
        "        while user_input != option_1 and user_input != option_2:\n",
        "            print(\"You have entered an invalid answer. Try again.\")\n",
        "            user_input = input(question).capitalize().strip()\n",
        "    return user_input\n",
        "def check_input_special (user_input):\n",
        "  while user_input not in [\"carnitas\", \"carne asada\",\"chorizo\", \"al pastor\" , \"chicharron\"]:\n",
        "    print(\"You have entered an invalid answer. Try again.\")\n",
        "    user_input = input(\"What type of meat: carnitas/carne asada/churrizo/al pastor/chicharron? \").lower().strip()\n",
        "  return user_input\n",
        "def check_input_special_2 (user_input):\n",
        "  while user_input not in [\"nopales\", \"broccoli + carrots\", \"veggies\", \"chili relleno\", \"red bell pepper + onions\"]:\n",
        "    print(\"You have entered an invalid answer. Try again.\")\n",
        "    user_input = input(\"What type of vegetable: nopales/broccoli + carrots/veggies/chili relleno/red bell pepper + onions? \").lower().strip()\n",
        "  return user_input\n",
        "#get user input\n",
        "def get_user_input ():\n",
        "    # fist question and checks user input\n",
        "    veg_meat = input (\"vegetarian or meat? \").lower().strip()\n",
        "    veg_meat = check_user_input(veg_meat, \"vegetarian or meat\" )\n",
        "    # follow up question and adds to list\n",
        "    new_input[\"veg_meat\"] = veg_meat\n",
        "    if veg_meat == \"meat\":\n",
        "    # second question. checks input. adds to list\n",
        "      meat_type = input(\"What type of meat: carnitas/carne asada/chorizo/al pastor/chicharron? \").lower().strip()\n",
        "      meat_type = check_input_special(meat_type)\n",
        "      new_input[\"meat_type\"] = meat_type\n",
        "      new_input[\"veg_type\"] = None\n",
        "    if veg_meat == \"vegetarian\":\n",
        "      veg_type = input (\"What type of vegetable: nopales/broccoli + carrots/veggies/chili relleno/red bell pepper + onions? \").lower().strip()\n",
        "      veg_type = check_input_special_2 (veg_type)\n",
        "      new_input[\"meat_type\"] = None\n",
        "      new_input[\"veg_type\"] = veg_type\n",
        "    #third question\n",
        "    rice = input (\"Do you need rice? (Y/N)\").capitalize().strip()\n",
        "    rice = check_user_input(rice,\"Do you need rice? (Y/N) \" )\n",
        "    new_input[\"rice\"] = rice\n",
        "    # fourth question\n",
        "    chips = input (\"Do you need tortilla chips? (Y/N)\").capitalize().strip()\n",
        "    chips = check_user_input(chips, \"Do you need tortilla chips? (Y/N) \")\n",
        "    new_input[\"chips\"] = chips\n",
        "    # fifth question. checks input. adds to list\n",
        "    size = input (\"Enter a size (2-3): \")\n",
        "    while int(size) not in [2, 3]:\n",
        "      print(\"You have entered an invalid answer. Try again. \")\n",
        "      size = input(\"Enter a size (2-3): \").strip()\n",
        "    new_input[\"size\"] = size\n",
        "    # sixth question\n",
        "    location = input (\"Sit down or take out?\").lower().strip()\n",
        "    while location not in [\"sit down\", \"take out\"]:\n",
        "        print(\"You have entered an invalid answer. Try again. \")\n",
        "        size = input(\"Sit down or take out?\").strip()\n",
        "    new_input[\"location\"] = location\n",
        "    # seventh question\n",
        "    variety = input (\"Traditional or experimental?\").lower().strip()\n",
        "    variety = check_user_input(variety,\"Traditional or experimental\")\n",
        "    new_input[\"variety\"] = variety\n",
        "    # eighth question. checks input. adds to list\n",
        "    breakfast = input (\"Are breakfast options important? (Y/N)\").capitalize().strip()\n",
        "    breakfast = check_user_input(breakfast, \"Are breakfast options important? (Y/N)\")\n",
        "    new_input[\"breakfast\"] = breakfast\n",
        "    #ninth  question\n",
        "    rare = input (\"Should the restaurant be off the beaten path? (Y/N)\").capitalize().strip()\n",
        "    rare = check_user_input(rare,\"Should the restaurant be off the beaten path? (Y/N)\")\n",
        "    new_input[\"rare\"] = rare\n",
        "\n",
        "def main():\n",
        "  get_user_input()\n",
        "\n",
        "main()\n",
        "print(new_input)\n"
      ]
    },
    {
      "cell_type": "code",
      "source": [
        "#upload csv\n",
        "import pandas as pd\n",
        "burritos_df = pd.read_csv(\"/content/burrito_list - Sheet1.csv\")\n",
        "burritos_df.head()\n",
        "# Convert all text columns to lowercase\n",
        "burritos_df = burritos_df.applymap(lambda x: x.lower() if isinstance(x, str) else x)\n",
        "burritos_df.to_csv(\"your_file_lowercase.csv\", index=False)\n",
        "#mapping yes and no\n",
        "burritos_df = burritos_df.replace({\"yes\": \"Y\", \"no\": \"N\"})\n",
        "#strip\n",
        "burritos_df.columns = burritos_df.columns.str.strip()\n",
        "burritos_df = burritos_df.applymap(lambda x: x.strip() if isinstance(x, str) else x)\n",
        "\n",
        "#convert csv to list\n",
        "burrito_list = burritos_df.to_dict(orient=\"records\")\n"
      ],
      "metadata": {
        "colab": {
          "base_uri": "https://localhost:8080/",
          "height": 373
        },
        "id": "Z00qMYFLwdyn",
        "outputId": "227a32f7-2eee-4eee-cd96-fa2cdc2f9dbb"
      },
      "execution_count": null,
      "outputs": [
        {
          "output_type": "error",
          "ename": "FileNotFoundError",
          "evalue": "[Errno 2] No such file or directory: '/content/burrito_list - Sheet1.csv'",
          "traceback": [
            "\u001b[0;31m---------------------------------------------------------------------------\u001b[0m",
            "\u001b[0;31mFileNotFoundError\u001b[0m                         Traceback (most recent call last)",
            "\u001b[0;32m<ipython-input-2-6fd45dca9e28>\u001b[0m in \u001b[0;36m<cell line: 0>\u001b[0;34m()\u001b[0m\n\u001b[1;32m      1\u001b[0m \u001b[0;31m#upload csv\u001b[0m\u001b[0;34m\u001b[0m\u001b[0;34m\u001b[0m\u001b[0m\n\u001b[1;32m      2\u001b[0m \u001b[0;32mimport\u001b[0m \u001b[0mpandas\u001b[0m \u001b[0;32mas\u001b[0m \u001b[0mpd\u001b[0m\u001b[0;34m\u001b[0m\u001b[0;34m\u001b[0m\u001b[0m\n\u001b[0;32m----> 3\u001b[0;31m \u001b[0mburritos_df\u001b[0m \u001b[0;34m=\u001b[0m \u001b[0mpd\u001b[0m\u001b[0;34m.\u001b[0m\u001b[0mread_csv\u001b[0m\u001b[0;34m(\u001b[0m\u001b[0;34m\"/content/burrito_list - Sheet1.csv\"\u001b[0m\u001b[0;34m)\u001b[0m\u001b[0;34m\u001b[0m\u001b[0;34m\u001b[0m\u001b[0m\n\u001b[0m\u001b[1;32m      4\u001b[0m \u001b[0mburritos_df\u001b[0m\u001b[0;34m.\u001b[0m\u001b[0mhead\u001b[0m\u001b[0;34m(\u001b[0m\u001b[0;34m)\u001b[0m\u001b[0;34m\u001b[0m\u001b[0;34m\u001b[0m\u001b[0m\n\u001b[1;32m      5\u001b[0m \u001b[0;31m# Convert all text columns to lowercase\u001b[0m\u001b[0;34m\u001b[0m\u001b[0;34m\u001b[0m\u001b[0m\n",
            "\u001b[0;32m/usr/local/lib/python3.11/dist-packages/pandas/io/parsers/readers.py\u001b[0m in \u001b[0;36mread_csv\u001b[0;34m(filepath_or_buffer, sep, delimiter, header, names, index_col, usecols, dtype, engine, converters, true_values, false_values, skipinitialspace, skiprows, skipfooter, nrows, na_values, keep_default_na, na_filter, verbose, skip_blank_lines, parse_dates, infer_datetime_format, keep_date_col, date_parser, date_format, dayfirst, cache_dates, iterator, chunksize, compression, thousands, decimal, lineterminator, quotechar, quoting, doublequote, escapechar, comment, encoding, encoding_errors, dialect, on_bad_lines, delim_whitespace, low_memory, memory_map, float_precision, storage_options, dtype_backend)\u001b[0m\n\u001b[1;32m   1024\u001b[0m     \u001b[0mkwds\u001b[0m\u001b[0;34m.\u001b[0m\u001b[0mupdate\u001b[0m\u001b[0;34m(\u001b[0m\u001b[0mkwds_defaults\u001b[0m\u001b[0;34m)\u001b[0m\u001b[0;34m\u001b[0m\u001b[0;34m\u001b[0m\u001b[0m\n\u001b[1;32m   1025\u001b[0m \u001b[0;34m\u001b[0m\u001b[0m\n\u001b[0;32m-> 1026\u001b[0;31m     \u001b[0;32mreturn\u001b[0m \u001b[0m_read\u001b[0m\u001b[0;34m(\u001b[0m\u001b[0mfilepath_or_buffer\u001b[0m\u001b[0;34m,\u001b[0m \u001b[0mkwds\u001b[0m\u001b[0;34m)\u001b[0m\u001b[0;34m\u001b[0m\u001b[0;34m\u001b[0m\u001b[0m\n\u001b[0m\u001b[1;32m   1027\u001b[0m \u001b[0;34m\u001b[0m\u001b[0m\n\u001b[1;32m   1028\u001b[0m \u001b[0;34m\u001b[0m\u001b[0m\n",
            "\u001b[0;32m/usr/local/lib/python3.11/dist-packages/pandas/io/parsers/readers.py\u001b[0m in \u001b[0;36m_read\u001b[0;34m(filepath_or_buffer, kwds)\u001b[0m\n\u001b[1;32m    618\u001b[0m \u001b[0;34m\u001b[0m\u001b[0m\n\u001b[1;32m    619\u001b[0m     \u001b[0;31m# Create the parser.\u001b[0m\u001b[0;34m\u001b[0m\u001b[0;34m\u001b[0m\u001b[0m\n\u001b[0;32m--> 620\u001b[0;31m     \u001b[0mparser\u001b[0m \u001b[0;34m=\u001b[0m \u001b[0mTextFileReader\u001b[0m\u001b[0;34m(\u001b[0m\u001b[0mfilepath_or_buffer\u001b[0m\u001b[0;34m,\u001b[0m \u001b[0;34m**\u001b[0m\u001b[0mkwds\u001b[0m\u001b[0;34m)\u001b[0m\u001b[0;34m\u001b[0m\u001b[0;34m\u001b[0m\u001b[0m\n\u001b[0m\u001b[1;32m    621\u001b[0m \u001b[0;34m\u001b[0m\u001b[0m\n\u001b[1;32m    622\u001b[0m     \u001b[0;32mif\u001b[0m \u001b[0mchunksize\u001b[0m \u001b[0;32mor\u001b[0m \u001b[0miterator\u001b[0m\u001b[0;34m:\u001b[0m\u001b[0;34m\u001b[0m\u001b[0;34m\u001b[0m\u001b[0m\n",
            "\u001b[0;32m/usr/local/lib/python3.11/dist-packages/pandas/io/parsers/readers.py\u001b[0m in \u001b[0;36m__init__\u001b[0;34m(self, f, engine, **kwds)\u001b[0m\n\u001b[1;32m   1618\u001b[0m \u001b[0;34m\u001b[0m\u001b[0m\n\u001b[1;32m   1619\u001b[0m         \u001b[0mself\u001b[0m\u001b[0;34m.\u001b[0m\u001b[0mhandles\u001b[0m\u001b[0;34m:\u001b[0m \u001b[0mIOHandles\u001b[0m \u001b[0;34m|\u001b[0m \u001b[0;32mNone\u001b[0m \u001b[0;34m=\u001b[0m \u001b[0;32mNone\u001b[0m\u001b[0;34m\u001b[0m\u001b[0;34m\u001b[0m\u001b[0m\n\u001b[0;32m-> 1620\u001b[0;31m         \u001b[0mself\u001b[0m\u001b[0;34m.\u001b[0m\u001b[0m_engine\u001b[0m \u001b[0;34m=\u001b[0m \u001b[0mself\u001b[0m\u001b[0;34m.\u001b[0m\u001b[0m_make_engine\u001b[0m\u001b[0;34m(\u001b[0m\u001b[0mf\u001b[0m\u001b[0;34m,\u001b[0m \u001b[0mself\u001b[0m\u001b[0;34m.\u001b[0m\u001b[0mengine\u001b[0m\u001b[0;34m)\u001b[0m\u001b[0;34m\u001b[0m\u001b[0;34m\u001b[0m\u001b[0m\n\u001b[0m\u001b[1;32m   1621\u001b[0m \u001b[0;34m\u001b[0m\u001b[0m\n\u001b[1;32m   1622\u001b[0m     \u001b[0;32mdef\u001b[0m \u001b[0mclose\u001b[0m\u001b[0;34m(\u001b[0m\u001b[0mself\u001b[0m\u001b[0;34m)\u001b[0m \u001b[0;34m->\u001b[0m \u001b[0;32mNone\u001b[0m\u001b[0;34m:\u001b[0m\u001b[0;34m\u001b[0m\u001b[0;34m\u001b[0m\u001b[0m\n",
            "\u001b[0;32m/usr/local/lib/python3.11/dist-packages/pandas/io/parsers/readers.py\u001b[0m in \u001b[0;36m_make_engine\u001b[0;34m(self, f, engine)\u001b[0m\n\u001b[1;32m   1878\u001b[0m                 \u001b[0;32mif\u001b[0m \u001b[0;34m\"b\"\u001b[0m \u001b[0;32mnot\u001b[0m \u001b[0;32min\u001b[0m \u001b[0mmode\u001b[0m\u001b[0;34m:\u001b[0m\u001b[0;34m\u001b[0m\u001b[0;34m\u001b[0m\u001b[0m\n\u001b[1;32m   1879\u001b[0m                     \u001b[0mmode\u001b[0m \u001b[0;34m+=\u001b[0m \u001b[0;34m\"b\"\u001b[0m\u001b[0;34m\u001b[0m\u001b[0;34m\u001b[0m\u001b[0m\n\u001b[0;32m-> 1880\u001b[0;31m             self.handles = get_handle(\n\u001b[0m\u001b[1;32m   1881\u001b[0m                 \u001b[0mf\u001b[0m\u001b[0;34m,\u001b[0m\u001b[0;34m\u001b[0m\u001b[0;34m\u001b[0m\u001b[0m\n\u001b[1;32m   1882\u001b[0m                 \u001b[0mmode\u001b[0m\u001b[0;34m,\u001b[0m\u001b[0;34m\u001b[0m\u001b[0;34m\u001b[0m\u001b[0m\n",
            "\u001b[0;32m/usr/local/lib/python3.11/dist-packages/pandas/io/common.py\u001b[0m in \u001b[0;36mget_handle\u001b[0;34m(path_or_buf, mode, encoding, compression, memory_map, is_text, errors, storage_options)\u001b[0m\n\u001b[1;32m    871\u001b[0m         \u001b[0;32mif\u001b[0m \u001b[0mioargs\u001b[0m\u001b[0;34m.\u001b[0m\u001b[0mencoding\u001b[0m \u001b[0;32mand\u001b[0m \u001b[0;34m\"b\"\u001b[0m \u001b[0;32mnot\u001b[0m \u001b[0;32min\u001b[0m \u001b[0mioargs\u001b[0m\u001b[0;34m.\u001b[0m\u001b[0mmode\u001b[0m\u001b[0;34m:\u001b[0m\u001b[0;34m\u001b[0m\u001b[0;34m\u001b[0m\u001b[0m\n\u001b[1;32m    872\u001b[0m             \u001b[0;31m# Encoding\u001b[0m\u001b[0;34m\u001b[0m\u001b[0;34m\u001b[0m\u001b[0m\n\u001b[0;32m--> 873\u001b[0;31m             handle = open(\n\u001b[0m\u001b[1;32m    874\u001b[0m                 \u001b[0mhandle\u001b[0m\u001b[0;34m,\u001b[0m\u001b[0;34m\u001b[0m\u001b[0;34m\u001b[0m\u001b[0m\n\u001b[1;32m    875\u001b[0m                 \u001b[0mioargs\u001b[0m\u001b[0;34m.\u001b[0m\u001b[0mmode\u001b[0m\u001b[0;34m,\u001b[0m\u001b[0;34m\u001b[0m\u001b[0;34m\u001b[0m\u001b[0m\n",
            "\u001b[0;31mFileNotFoundError\u001b[0m: [Errno 2] No such file or directory: '/content/burrito_list - Sheet1.csv'"
          ]
        }
      ]
    },
    {
      "cell_type": "code",
      "source": [
        "from google.colab import drive\n",
        "drive.mount('/content/drive')"
      ],
      "metadata": {
        "id": "ywsm8UhSVmEn"
      },
      "execution_count": null,
      "outputs": []
    },
    {
      "cell_type": "code",
      "source": [
        "#filter by meat preference\n",
        "matches = []\n",
        "\n",
        "for burrito in burrito_list:\n",
        "  # Check if the key exists before accessing it\n",
        "  if \"meat_type\" in burrito and burrito[\"meat_type\"] == new_input[\"meat_type\"]:\n",
        "    matches.append(burrito)\n",
        "  elif \"veg_type\" in burrito and burrito[\"veg_type\"] == new_input[\"veg_type\"]:\n",
        "    matches.append(burrito)\n",
        "print(matches)\n",
        "print(len(matches))"
      ],
      "metadata": {
        "id": "WEHOczIpx_8H"
      },
      "execution_count": null,
      "outputs": []
    },
    {
      "cell_type": "code",
      "source": [
        "#filter by variety and rareness\n",
        "next_matches = []\n",
        "next2_matches = []\n",
        "\n",
        "for burrito in matches:\n",
        "  if burrito[\"variety\"] == new_input[\"variety\"]:\n",
        "    next_matches.append(burrito)\n",
        "\n",
        "for burrito in next_matches:\n",
        "  if burrito[\"rare\"] == new_input[\"rare\"]:\n",
        "    next2_matches.append(burrito)\n",
        "print(next_matches)\n",
        "print(len(next_matches))\n",
        "print(next2_matches)\n",
        "print(len(next2_matches))\n",
        "print(burrito[\"rare\"])"
      ],
      "metadata": {
        "id": "QSQct4e52Uhk"
      },
      "execution_count": null,
      "outputs": []
    },
    {
      "cell_type": "code",
      "source": [
        "# filter by remaining categories\n",
        "\n",
        "\n",
        "# Scoring logic\n",
        "scored_burritos = []\n",
        "\n",
        "# Initialize the score for each burrito\n",
        "\n",
        "for burrito in next2_matches:\n",
        "    burrito['score'] = 0\n",
        "\n",
        "print(len(next2_matches))\n",
        "\n",
        "for burrito in next2_matches:\n",
        "    # 1. rice match (assign higher weight to protein matches)\n",
        "    if burrito[\"rice\"] == new_input[\"rice\"]:\n",
        "        burrito['score'] += 4\n",
        "        scored_burritos.append(burrito)\n",
        "\n",
        "    # 2. tortilla match\n",
        "    if burrito[\"chips\"] == new_input[\"chips\"]:\n",
        "        burrito['score'] += 1\n",
        "        scored_burritos.append(burrito)\n",
        "    # 3. location match\n",
        "    if burrito[\"location\"] == new_input[\"location\"]:\n",
        "        burrito['score'] += 1\n",
        "        scored_burritos.append(burrito)\n",
        "    # 4. Size match\n",
        "    if burrito[\"size\"] == new_input[\"size\"]:\n",
        "        burrito['score'] += 3\n",
        "        scored_burritos.append(burrito)\n",
        "    # 5. breakfast match\n",
        "    if burrito[\"breakfast\"] == new_input[\"breakfast\"]:\n",
        "        burrito['score'] += 2\n",
        "        scored_burritos.append(burrito)\n",
        "    # Append the burrito and its score to the scored list\n",
        "\n",
        "\n",
        "# Sort burritos by score in descending order\n",
        "\n",
        "print(scored_burritos)\n",
        "\n",
        "scored_burritos = sorted(scored_burritos, key=lambda x: x['score'], reverse = True)\n",
        "print(scored_burritos[0])\n"
      ],
      "metadata": {
        "id": "3UR-2q0Z5uC1"
      },
      "execution_count": null,
      "outputs": []
    },
    {
      "cell_type": "code",
      "source": [
        "#final results\n",
        "\n",
        "# Display results\n",
        "# Check if scored_burritos is empty before calling max()\n",
        "if scored_burritos:\n",
        "    best_burrito = max(scored_burritos, key=lambda x: x[\"score\"])\n",
        "\n",
        "    #find best burrito in original list\n",
        "    best_burrito_details = scored_burritos[0]\n",
        "    print(best_burrito_details)\n",
        "    # connect to address and burrito\n",
        "    dataf = pd.read_csv(\"/content/burrito_final - Sheet1.csv\")\n",
        "    dataf.columns = dataf.columns.str.strip()\n",
        "    #lower case\n",
        "    dataf = dataf.map(lambda x: x.lower() if isinstance(x, str) else x)\n",
        "    dataf = dataf.applymap(lambda x: x.strip() if isinstance(x, str) else x) # Apply strip to every cell if it's a string\n",
        "    dataf.to_csv(\"your_file_lowercase.csv\", index=False)\n",
        "    #make into list of dictionaries\n",
        "    burrito_info = dataf.to_dict(orient=\"records\")\n",
        "    #get restaurant name\n",
        "    restaurant = best_burrito_details[\"restaurant\"]\n",
        "    #get address\n",
        "    for one in burrito_info:\n",
        "        if restaurant == one[\"restaurant\"]:\n",
        "            address = one[\"address\"]\n",
        "    print(address)\n",
        "\n",
        "    #recapitalize\n",
        "    columns_to_capitalize = [\"address\", \"restaurant\"]\n",
        "    dataf[columns_to_capitalize] = dataf[columns_to_capitalize].apply(lambda col: col.str.capitalize())\n",
        "\n",
        "    print(\"Congrats! Your perfect burrito is:\", best_burrito[\"burrito\"], \".\", \"This burrito can be found at\", best_burrito_details[\"restaurant\"].title(), \"which is located at\", address.title())\n",
        "else:\n",
        "    print(\"No burritos match your criteria. Please try again with different preferences.\")"
      ],
      "metadata": {
        "id": "lLWKYwWV9P5d"
      },
      "execution_count": null,
      "outputs": []
    }
  ]
}